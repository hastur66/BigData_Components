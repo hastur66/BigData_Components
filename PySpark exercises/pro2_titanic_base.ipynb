{
 "cells": [
  {
   "cell_type": "code",
   "execution_count": 1,
   "id": "9817bff2-dd4c-4308-96ef-5955897b8f1f",
   "metadata": {},
   "outputs": [],
   "source": [
    "from pyspark.sql import SparkSession\n",
    "from pyspark.context import SparkContext\n",
    "from pyspark.sql.functions import *\n",
    "from pyspark.sql.types import *\n",
    "import pandas as pd\n",
    "import matplotlib.pyplot as plt\n",
    "import seaborn as sns\n",
    "\n",
    "%matplotlib inline"
   ]
  },
  {
   "cell_type": "code",
   "execution_count": 2,
   "id": "e513aee6-aa1c-4d21-ad00-b9b3f021d244",
   "metadata": {},
   "outputs": [],
   "source": [
    "sc = SparkSession.builder.appName('Example')\\\n",
    "     .config('spark.sql.shuffle.partitions', '50')\\\n",
    "     .config('spark.driver.maxResultSize', '5g')\\\n",
    "     .config('spark.sql.execution.arrow.enabled', 'true')\\\n",
    "     .getOrCreate()"
   ]
  },
  {
   "cell_type": "markdown",
   "id": "a3f0d9e2-30be-4689-a3d8-4a2ddc71167c",
   "metadata": {},
   "source": [
    "### Load and Preprocess Data"
   ]
  },
  {
   "cell_type": "code",
   "execution_count": 3,
   "id": "0cd3af82-d3ff-498e-92bf-acb409ae2c34",
   "metadata": {},
   "outputs": [],
   "source": [
    "dataframe = sc.read.csv('data/titanic_train.csv', header=True)"
   ]
  },
  {
   "cell_type": "code",
   "execution_count": 4,
   "id": "e95b060f-4d3a-4504-a77e-c2be2709cd0b",
   "metadata": {},
   "outputs": [
    {
     "name": "stdout",
     "output_type": "stream",
     "text": [
      "+-----------+--------+------+--------------------+------+---+-----+-----+----------------+-------+-----+--------+\n",
      "|PassengerId|Survived|Pclass|                Name|   Sex|Age|SibSp|Parch|          Ticket|   Fare|Cabin|Embarked|\n",
      "+-----------+--------+------+--------------------+------+---+-----+-----+----------------+-------+-----+--------+\n",
      "|          1|       0|     3|Braund, Mr. Owen ...|  male| 22|    1|    0|       A/5 21171|   7.25| null|       S|\n",
      "|          2|       1|     1|Cumings, Mrs. Joh...|female| 38|    1|    0|        PC 17599|71.2833|  C85|       C|\n",
      "|          3|       1|     3|Heikkinen, Miss. ...|female| 26|    0|    0|STON/O2. 3101282|  7.925| null|       S|\n",
      "+-----------+--------+------+--------------------+------+---+-----+-----+----------------+-------+-----+--------+\n",
      "only showing top 3 rows\n",
      "\n"
     ]
    }
   ],
   "source": [
    "dataframe.show(3)"
   ]
  },
  {
   "cell_type": "code",
   "execution_count": 5,
   "id": "18f5b5cf-4a47-4711-9906-071a434d5eed",
   "metadata": {},
   "outputs": [
    {
     "data": {
      "text/plain": [
       "[('PassengerId', 'string'),\n",
       " ('Survived', 'string'),\n",
       " ('Pclass', 'string'),\n",
       " ('Name', 'string'),\n",
       " ('Sex', 'string'),\n",
       " ('Age', 'string'),\n",
       " ('SibSp', 'string'),\n",
       " ('Parch', 'string'),\n",
       " ('Ticket', 'string'),\n",
       " ('Fare', 'string'),\n",
       " ('Cabin', 'string'),\n",
       " ('Embarked', 'string')]"
      ]
     },
     "execution_count": 5,
     "metadata": {},
     "output_type": "execute_result"
    }
   ],
   "source": [
    "dataframe.dtypes"
   ]
  },
  {
   "cell_type": "code",
   "execution_count": 6,
   "id": "d5a26420-1c3c-432d-84ec-5651ffd5699e",
   "metadata": {},
   "outputs": [
    {
     "name": "stdout",
     "output_type": "stream",
     "text": [
      "root\n",
      " |-- PassengerId: string (nullable = true)\n",
      " |-- Survived: string (nullable = true)\n",
      " |-- Pclass: string (nullable = true)\n",
      " |-- Name: string (nullable = true)\n",
      " |-- Sex: string (nullable = true)\n",
      " |-- Age: string (nullable = true)\n",
      " |-- SibSp: string (nullable = true)\n",
      " |-- Parch: string (nullable = true)\n",
      " |-- Ticket: string (nullable = true)\n",
      " |-- Fare: string (nullable = true)\n",
      " |-- Cabin: string (nullable = true)\n",
      " |-- Embarked: string (nullable = true)\n",
      "\n"
     ]
    }
   ],
   "source": [
    "dataframe.printSchema()"
   ]
  },
  {
   "cell_type": "code",
   "execution_count": 7,
   "id": "72117d34-8469-4b3a-9511-a6fa0f8f885f",
   "metadata": {},
   "outputs": [
    {
     "data": {
      "text/plain": [
       "891"
      ]
     },
     "execution_count": 7,
     "metadata": {},
     "output_type": "execute_result"
    }
   ],
   "source": [
    "dataframe.count()"
   ]
  },
  {
   "cell_type": "markdown",
   "id": "02fef12f-9b68-45e0-992f-6352e9551613",
   "metadata": {},
   "source": [
    "#### Drop Duplicates"
   ]
  },
  {
   "cell_type": "code",
   "execution_count": 8,
   "id": "d3ffd2eb-47ce-42de-b68e-a1774c6ede17",
   "metadata": {},
   "outputs": [
    {
     "data": {
      "text/plain": [
       "891"
      ]
     },
     "execution_count": 8,
     "metadata": {},
     "output_type": "execute_result"
    }
   ],
   "source": [
    "dataframe_drp = dataframe.dropDuplicates()\n",
    "dataframe_drp.count()"
   ]
  },
  {
   "cell_type": "code",
   "execution_count": 9,
   "id": "78f4f840-7d8a-47bd-9b54-1a8fa83b9cd7",
   "metadata": {},
   "outputs": [
    {
     "name": "stdout",
     "output_type": "stream",
     "text": [
      "+-----------+--------+------+------+----+-----+-----+--------+--------+\n",
      "|PassengerId|Survived|Pclass|   Sex| Age|SibSp|Parch|    Fare|Embarked|\n",
      "+-----------+--------+------+------+----+-----+-----+--------+--------+\n",
      "|          3|       1|     3|female|  26|    0|    0|   7.925|       S|\n",
      "|         64|       0|     3|  male|   4|    3|    2|    27.9|       S|\n",
      "|         77|       0|     3|  male|null|    0|    0|  7.8958|       S|\n",
      "|        142|       1|     3|female|  22|    0|    0|    7.75|       S|\n",
      "|        176|       0|     3|  male|  18|    1|    1|  7.8542|       S|\n",
      "|        191|       1|     2|female|  32|    0|    0|      13|       S|\n",
      "|        225|       1|     1|  male|  38|    1|    0|      90|       S|\n",
      "|        239|       0|     2|  male|  19|    0|    0|    10.5|       S|\n",
      "|        247|       0|     3|female|  25|    0|    0|   7.775|       S|\n",
      "|        278|       0|     2|  male|null|    0|    0|       0|       S|\n",
      "|        374|       0|     1|  male|  22|    0|    0|135.6333|       C|\n",
      "|        405|       0|     3|female|  20|    0|    0|  8.6625|       S|\n",
      "|        433|       1|     2|female|  42|    1|    0|      26|       S|\n",
      "|        447|       1|     2|female|  13|    0|    1|    19.5|       S|\n",
      "|        484|       1|     3|female|  63|    0|    0|  9.5875|       S|\n",
      "|        509|       0|     3|  male|  28|    0|    0|  22.525|       S|\n",
      "|        606|       0|     3|  male|  36|    1|    0|   15.55|       S|\n",
      "|        701|       1|     1|female|  18|    1|    0| 227.525|       C|\n",
      "|        720|       0|     3|  male|  33|    0|    0|   7.775|       S|\n",
      "|        768|       0|     3|female|30.5|    0|    0|    7.75|       Q|\n",
      "+-----------+--------+------+------+----+-----+-----+--------+--------+\n",
      "only showing top 20 rows\n",
      "\n"
     ]
    }
   ],
   "source": [
    "df = dataframe_drp.drop(*['name', 'Ticket', 'Cabin'])\n",
    "df.show()"
   ]
  },
  {
   "cell_type": "markdown",
   "id": "cd008e70-0069-482a-a6fe-1535fef6b9ef",
   "metadata": {},
   "source": [
    "#### Handle Missing values"
   ]
  },
  {
   "cell_type": "code",
   "execution_count": 10,
   "id": "bc2bda21-caef-4421-9a49-1f803bc735da",
   "metadata": {},
   "outputs": [],
   "source": [
    "def missing_val(df, cols):\n",
    "    vals = []\n",
    "    for val in cols:\n",
    "        c = df.filter(df[val].isNull()).count()\n",
    "        vals.append({val: c})\n",
    "    return vals"
   ]
  },
  {
   "cell_type": "code",
   "execution_count": 11,
   "id": "45009923-6922-4bf0-9978-5e35281795f7",
   "metadata": {},
   "outputs": [
    {
     "data": {
      "text/plain": [
       "[{'PassengerId': 0},\n",
       " {'Survived': 0},\n",
       " {'Pclass': 0},\n",
       " {'Sex': 0},\n",
       " {'Age': 177},\n",
       " {'SibSp': 0},\n",
       " {'Parch': 0},\n",
       " {'Fare': 0},\n",
       " {'Embarked': 2}]"
      ]
     },
     "execution_count": 11,
     "metadata": {},
     "output_type": "execute_result"
    }
   ],
   "source": [
    "cols = ['PassengerId', 'Survived', 'Pclass', 'Sex', 'Age', 'SibSp', 'Parch', 'Fare', 'Embarked']\n",
    "missing_val(df,cols)"
   ]
  },
  {
   "cell_type": "code",
   "execution_count": 12,
   "id": "d99e48aa-ac35-42f7-a519-1a661bf8f55a",
   "metadata": {},
   "outputs": [
    {
     "data": {
      "text/plain": [
       "889"
      ]
     },
     "execution_count": 12,
     "metadata": {},
     "output_type": "execute_result"
    }
   ],
   "source": [
    "df = df.dropna(how='all', subset=['Embarked'])\n",
    "df.count()"
   ]
  },
  {
   "cell_type": "code",
   "execution_count": 13,
   "id": "15a24a7c-d00a-4975-838c-4a0fe0bee52f",
   "metadata": {},
   "outputs": [
    {
     "data": {
      "text/plain": [
       "[('PassengerId', 'int'),\n",
       " ('Survived', 'int'),\n",
       " ('Pclass', 'string'),\n",
       " ('Sex', 'string'),\n",
       " ('Age', 'int'),\n",
       " ('SibSp', 'string'),\n",
       " ('Parch', 'string'),\n",
       " ('Fare', 'float'),\n",
       " ('Embarked', 'string')]"
      ]
     },
     "execution_count": 13,
     "metadata": {},
     "output_type": "execute_result"
    }
   ],
   "source": [
    "df_new = df.withColumn('Age', df['Age'].cast(IntegerType()))\n",
    "df_new = df_new.withColumn('PassengerId', df['PassengerId'].cast(IntegerType()))\n",
    "df_new = df_new.withColumn('Survived', df['Survived'].cast(IntegerType()))\n",
    "df_new = df_new.withColumn('Fare', df['Fare'].cast(FloatType()))\n",
    "\n",
    "df_new.dtypes"
   ]
  },
  {
   "cell_type": "code",
   "execution_count": 14,
   "id": "ac0b4349-ad74-41e1-890e-9b9bcec146e3",
   "metadata": {},
   "outputs": [
    {
     "data": {
      "text/plain": [
       "889"
      ]
     },
     "execution_count": 14,
     "metadata": {},
     "output_type": "execute_result"
    }
   ],
   "source": [
    "col_mean = df_new.agg({'Age': 'mean'}).collect()[0][0]\n",
    "df_new = df_new.fillna(col_mean, subset=['Age'])\n",
    "\n",
    "df_new.count()"
   ]
  },
  {
   "cell_type": "code",
   "execution_count": 15,
   "id": "e84db565-a6d0-477c-ac64-2de16d0bd8b8",
   "metadata": {},
   "outputs": [
    {
     "data": {
      "text/plain": [
       "[{'PassengerId': 0},\n",
       " {'Survived': 0},\n",
       " {'Pclass': 0},\n",
       " {'Sex': 0},\n",
       " {'Age': 0},\n",
       " {'SibSp': 0},\n",
       " {'Parch': 0},\n",
       " {'Fare': 0},\n",
       " {'Embarked': 0}]"
      ]
     },
     "execution_count": 15,
     "metadata": {},
     "output_type": "execute_result"
    }
   ],
   "source": [
    "cols = ['PassengerId', 'Survived', 'Pclass', 'Sex', 'Age', 'SibSp', 'Parch', 'Fare', 'Embarked']\n",
    "missing_val(df_new, cols)"
   ]
  },
  {
   "cell_type": "markdown",
   "id": "d76291bf-3729-49c9-bbe1-19e4393215e4",
   "metadata": {},
   "source": [
    "#### Scale data"
   ]
  },
  {
   "cell_type": "code",
   "execution_count": 16,
   "id": "0e55bcab-a7e8-441b-bf1a-22d647b7e25e",
   "metadata": {},
   "outputs": [
    {
     "data": {
      "text/plain": [
       "\"minm = df_new.agg({'Age': 'min'}).collect()[0][0]\\nmaxm = df_new.agg({'Age': 'max'}).collect()[0][0]\\n    \\ndf_scaled = df_new.withColumn('scaled_' + 'Age', (df_new['Age'] - minm) / (maxm - minm))\\ndf_scaled.show(5)\""
      ]
     },
     "execution_count": 16,
     "metadata": {},
     "output_type": "execute_result"
    }
   ],
   "source": [
    "\"\"\"minm = df_new.agg({'Age': 'min'}).collect()[0][0]\n",
    "maxm = df_new.agg({'Age': 'max'}).collect()[0][0]\n",
    "    \n",
    "df_scaled = df_new.withColumn('scaled_' + 'Age', (df_new['Age'] - minm) / (maxm - minm))\n",
    "df_scaled.show(5)\"\"\""
   ]
  },
  {
   "cell_type": "code",
   "execution_count": 17,
   "id": "96ddfb7b-8402-485c-b87e-45069da63447",
   "metadata": {},
   "outputs": [],
   "source": [
    "def minmaxScale(df, col):\n",
    "    minm = df.agg({col: 'min'}).collect()[0][0]\n",
    "    maxm = df.agg({col: 'max'}).collect()[0][0]\n",
    "    global df_scaled\n",
    "    df_scaled = df.withColumn('scaled_' + col, (df[col] - minm) / (maxm - minm))\n",
    "    return df_scaled.show(5)"
   ]
  },
  {
   "cell_type": "code",
   "execution_count": 18,
   "id": "062a73af-8a83-434f-98ce-2f0cf5239e36",
   "metadata": {},
   "outputs": [
    {
     "name": "stdout",
     "output_type": "stream",
     "text": [
      "+-----------+--------+------+------+---+-----+-----+------+--------+----------+\n",
      "|PassengerId|Survived|Pclass|   Sex|Age|SibSp|Parch|  Fare|Embarked|scaled_Age|\n",
      "+-----------+--------+------+------+---+-----+-----+------+--------+----------+\n",
      "|          3|       1|     3|female| 26|    0|    0| 7.925|       S|     0.325|\n",
      "|         64|       0|     3|  male|  4|    3|    2|  27.9|       S|      0.05|\n",
      "|         77|       0|     3|  male| 29|    0|    0|7.8958|       S|    0.3625|\n",
      "|        142|       1|     3|female| 22|    0|    0|  7.75|       S|     0.275|\n",
      "|        176|       0|     3|  male| 18|    1|    1|7.8542|       S|     0.225|\n",
      "+-----------+--------+------+------+---+-----+-----+------+--------+----------+\n",
      "only showing top 5 rows\n",
      "\n"
     ]
    }
   ],
   "source": [
    "minmaxScale(df_new, 'Age')"
   ]
  },
  {
   "cell_type": "code",
   "execution_count": 19,
   "id": "8887e4e6-980d-4185-be10-20a713802cc4",
   "metadata": {},
   "outputs": [
    {
     "name": "stdout",
     "output_type": "stream",
     "text": [
      "+-----------+--------+------+------+---+-----+-----+------+--------+----------+--------------------+\n",
      "|PassengerId|Survived|Pclass|   Sex|Age|SibSp|Parch|  Fare|Embarked|scaled_Age|         scaled_Fare|\n",
      "+-----------+--------+------+------+---+-----+-----+------+--------+----------+--------------------+\n",
      "|          3|       1|     3|female| 26|    0|    0| 7.925|       S|     0.325|0.015468569476752568|\n",
      "|         64|       0|     3|  male|  4|    3|    2|  27.9|       S|      0.05|0.054457169982804386|\n",
      "|         77|       0|     3|  male| 29|    0|    0|7.8958|       S|    0.3625| 0.01541157472472606|\n",
      "|        142|       1|     3|female| 22|    0|    0|  7.75|       S|     0.275|0.015126991868717687|\n",
      "|        176|       0|     3|  male| 18|    1|    1|7.8542|       S|     0.225|0.015330376492345367|\n",
      "+-----------+--------+------+------+---+-----+-----+------+--------+----------+--------------------+\n",
      "only showing top 5 rows\n",
      "\n"
     ]
    }
   ],
   "source": [
    "minmaxScale(df_scaled, 'Fare')"
   ]
  },
  {
   "cell_type": "markdown",
   "id": "ee70d596-2354-4568-99dd-da1367f1b690",
   "metadata": {},
   "source": [
    "#### One Hot encoding"
   ]
  },
  {
   "cell_type": "code",
   "execution_count": 20,
   "id": "8e883e0f-bde3-4611-bfed-f9d2edb0d80d",
   "metadata": {},
   "outputs": [],
   "source": [
    "from pyspark.ml.feature import OneHotEncoder, StringIndexer"
   ]
  },
  {
   "cell_type": "code",
   "execution_count": 21,
   "id": "f91efe38-78eb-4a2e-8999-04cf0426b3a7",
   "metadata": {},
   "outputs": [
    {
     "data": {
      "text/plain": [
       "\"stringIndexer = StringIndexer(inputCol='Survived', outputCol='Survived_Index')\\n\\nmodel = stringIndexer.fit(df_scaled)\\n\\nindexed = model.transform(df_scaled)\\n\\nencoder = OneHotEncoder(inputCol='Survived_Index', outputCol='Suvrvived_Vec')\\n\\nohe = encoder.fit(indexed)\\nencoded_df = ohe.transform(indexed)\\n\\nencoded_df.show(3)\""
      ]
     },
     "execution_count": 21,
     "metadata": {},
     "output_type": "execute_result"
    }
   ],
   "source": [
    "\"\"\"stringIndexer = StringIndexer(inputCol='Survived', outputCol='Survived_Index')\n",
    "\n",
    "model = stringIndexer.fit(df_scaled)\n",
    "\n",
    "indexed = model.transform(df_scaled)\n",
    "\n",
    "encoder = OneHotEncoder(inputCol='Survived_Index', outputCol='Suvrvived_Vec')\n",
    "\n",
    "ohe = encoder.fit(indexed)\n",
    "encoded_df = ohe.transform(indexed)\n",
    "\n",
    "encoded_df.show(3)\"\"\""
   ]
  },
  {
   "cell_type": "code",
   "execution_count": 22,
   "id": "34e89821-3be3-40ae-ad54-e5197d4fc7d6",
   "metadata": {},
   "outputs": [],
   "source": [
    "def oneHot(df, col):\n",
    "    global encoded_df\n",
    "    \n",
    "    stringIndexer = StringIndexer(inputCol=col, outputCol= col + '_Index')\n",
    "\n",
    "    model = stringIndexer.fit(df)\n",
    "\n",
    "    indexed = model.transform(df)\n",
    "\n",
    "    encoder = OneHotEncoder(inputCol=col + '_Index', outputCol=col + '_Vec')\n",
    "\n",
    "    ohe = encoder.fit(indexed)\n",
    "    encoded_df = ohe.transform(indexed)\n",
    "\n",
    "    encoded_df.show(3)\n",
    "    \n",
    "    return encoded_df"
   ]
  },
  {
   "cell_type": "code",
   "execution_count": 23,
   "id": "333fd649-6251-4919-87aa-84da4f67bbec",
   "metadata": {},
   "outputs": [
    {
     "name": "stdout",
     "output_type": "stream",
     "text": [
      "+-----------+--------+------+------+---+-----+-----+------+--------+----------+--------------------+--------------+-------------+\n",
      "|PassengerId|Survived|Pclass|   Sex|Age|SibSp|Parch|  Fare|Embarked|scaled_Age|         scaled_Fare|Survived_Index| Survived_Vec|\n",
      "+-----------+--------+------+------+---+-----+-----+------+--------+----------+--------------------+--------------+-------------+\n",
      "|          3|       1|     3|female| 26|    0|    0| 7.925|       S|     0.325|0.015468569476752568|           1.0|    (1,[],[])|\n",
      "|         64|       0|     3|  male|  4|    3|    2|  27.9|       S|      0.05|0.054457169982804386|           0.0|(1,[0],[1.0])|\n",
      "|         77|       0|     3|  male| 29|    0|    0|7.8958|       S|    0.3625| 0.01541157472472606|           0.0|(1,[0],[1.0])|\n",
      "+-----------+--------+------+------+---+-----+-----+------+--------+----------+--------------------+--------------+-------------+\n",
      "only showing top 3 rows\n",
      "\n"
     ]
    },
    {
     "data": {
      "text/plain": [
       "DataFrame[PassengerId: int, Survived: int, Pclass: string, Sex: string, Age: int, SibSp: string, Parch: string, Fare: float, Embarked: string, scaled_Age: double, scaled_Fare: double, Survived_Index: double, Survived_Vec: vector]"
      ]
     },
     "execution_count": 23,
     "metadata": {},
     "output_type": "execute_result"
    }
   ],
   "source": [
    "oneHot(df_scaled, 'Survived')"
   ]
  },
  {
   "cell_type": "code",
   "execution_count": 24,
   "id": "cfab2055-6e83-4368-b2fa-8e632fa283b0",
   "metadata": {},
   "outputs": [
    {
     "name": "stdout",
     "output_type": "stream",
     "text": [
      "+-----------+--------+------+------+---+-----+-----+------+--------+----------+--------------------+--------------+-------------+---------+-------------+\n",
      "|PassengerId|Survived|Pclass|   Sex|Age|SibSp|Parch|  Fare|Embarked|scaled_Age|         scaled_Fare|Survived_Index| Survived_Vec|Sex_Index|      Sex_Vec|\n",
      "+-----------+--------+------+------+---+-----+-----+------+--------+----------+--------------------+--------------+-------------+---------+-------------+\n",
      "|          3|       1|     3|female| 26|    0|    0| 7.925|       S|     0.325|0.015468569476752568|           1.0|    (1,[],[])|      1.0|    (1,[],[])|\n",
      "|         64|       0|     3|  male|  4|    3|    2|  27.9|       S|      0.05|0.054457169982804386|           0.0|(1,[0],[1.0])|      0.0|(1,[0],[1.0])|\n",
      "|         77|       0|     3|  male| 29|    0|    0|7.8958|       S|    0.3625| 0.01541157472472606|           0.0|(1,[0],[1.0])|      0.0|(1,[0],[1.0])|\n",
      "+-----------+--------+------+------+---+-----+-----+------+--------+----------+--------------------+--------------+-------------+---------+-------------+\n",
      "only showing top 3 rows\n",
      "\n"
     ]
    },
    {
     "data": {
      "text/plain": [
       "DataFrame[PassengerId: int, Survived: int, Pclass: string, Sex: string, Age: int, SibSp: string, Parch: string, Fare: float, Embarked: string, scaled_Age: double, scaled_Fare: double, Survived_Index: double, Survived_Vec: vector, Sex_Index: double, Sex_Vec: vector]"
      ]
     },
     "execution_count": 24,
     "metadata": {},
     "output_type": "execute_result"
    }
   ],
   "source": [
    "oneHot(encoded_df, 'Sex')"
   ]
  },
  {
   "cell_type": "code",
   "execution_count": 25,
   "id": "66e86970-6de1-4f13-934f-c38fb9e4735f",
   "metadata": {},
   "outputs": [
    {
     "name": "stdout",
     "output_type": "stream",
     "text": [
      "+-----------+--------+------+------+---+-----+-----+------+--------+----------+--------------------+--------------+-------------+---------+-------------+-----------+-------------+\n",
      "|PassengerId|Survived|Pclass|   Sex|Age|SibSp|Parch|  Fare|Embarked|scaled_Age|         scaled_Fare|Survived_Index| Survived_Vec|Sex_Index|      Sex_Vec|SibSp_Index|    SibSp_Vec|\n",
      "+-----------+--------+------+------+---+-----+-----+------+--------+----------+--------------------+--------------+-------------+---------+-------------+-----------+-------------+\n",
      "|          3|       1|     3|female| 26|    0|    0| 7.925|       S|     0.325|0.015468569476752568|           1.0|    (1,[],[])|      1.0|    (1,[],[])|        0.0|(6,[0],[1.0])|\n",
      "|         64|       0|     3|  male|  4|    3|    2|  27.9|       S|      0.05|0.054457169982804386|           0.0|(1,[0],[1.0])|      0.0|(1,[0],[1.0])|        4.0|(6,[4],[1.0])|\n",
      "|         77|       0|     3|  male| 29|    0|    0|7.8958|       S|    0.3625| 0.01541157472472606|           0.0|(1,[0],[1.0])|      0.0|(1,[0],[1.0])|        0.0|(6,[0],[1.0])|\n",
      "+-----------+--------+------+------+---+-----+-----+------+--------+----------+--------------------+--------------+-------------+---------+-------------+-----------+-------------+\n",
      "only showing top 3 rows\n",
      "\n"
     ]
    },
    {
     "data": {
      "text/plain": [
       "DataFrame[PassengerId: int, Survived: int, Pclass: string, Sex: string, Age: int, SibSp: string, Parch: string, Fare: float, Embarked: string, scaled_Age: double, scaled_Fare: double, Survived_Index: double, Survived_Vec: vector, Sex_Index: double, Sex_Vec: vector, SibSp_Index: double, SibSp_Vec: vector]"
      ]
     },
     "execution_count": 25,
     "metadata": {},
     "output_type": "execute_result"
    }
   ],
   "source": [
    "oneHot(encoded_df, 'SibSp')"
   ]
  },
  {
   "cell_type": "code",
   "execution_count": 26,
   "id": "c871527c-4f74-4ada-857c-5f00c55de8cb",
   "metadata": {},
   "outputs": [
    {
     "name": "stdout",
     "output_type": "stream",
     "text": [
      "+-----------+--------+------+------+---+-----+-----+------+--------+----------+--------------------+--------------+-------------+---------+-------------+-----------+-------------+-----------+-------------+\n",
      "|PassengerId|Survived|Pclass|   Sex|Age|SibSp|Parch|  Fare|Embarked|scaled_Age|         scaled_Fare|Survived_Index| Survived_Vec|Sex_Index|      Sex_Vec|SibSp_Index|    SibSp_Vec|Parch_Index|    Parch_Vec|\n",
      "+-----------+--------+------+------+---+-----+-----+------+--------+----------+--------------------+--------------+-------------+---------+-------------+-----------+-------------+-----------+-------------+\n",
      "|          3|       1|     3|female| 26|    0|    0| 7.925|       S|     0.325|0.015468569476752568|           1.0|    (1,[],[])|      1.0|    (1,[],[])|        0.0|(6,[0],[1.0])|        0.0|(6,[0],[1.0])|\n",
      "|         64|       0|     3|  male|  4|    3|    2|  27.9|       S|      0.05|0.054457169982804386|           0.0|(1,[0],[1.0])|      0.0|(1,[0],[1.0])|        4.0|(6,[4],[1.0])|        2.0|(6,[2],[1.0])|\n",
      "|         77|       0|     3|  male| 29|    0|    0|7.8958|       S|    0.3625| 0.01541157472472606|           0.0|(1,[0],[1.0])|      0.0|(1,[0],[1.0])|        0.0|(6,[0],[1.0])|        0.0|(6,[0],[1.0])|\n",
      "+-----------+--------+------+------+---+-----+-----+------+--------+----------+--------------------+--------------+-------------+---------+-------------+-----------+-------------+-----------+-------------+\n",
      "only showing top 3 rows\n",
      "\n"
     ]
    },
    {
     "data": {
      "text/plain": [
       "DataFrame[PassengerId: int, Survived: int, Pclass: string, Sex: string, Age: int, SibSp: string, Parch: string, Fare: float, Embarked: string, scaled_Age: double, scaled_Fare: double, Survived_Index: double, Survived_Vec: vector, Sex_Index: double, Sex_Vec: vector, SibSp_Index: double, SibSp_Vec: vector, Parch_Index: double, Parch_Vec: vector]"
      ]
     },
     "execution_count": 26,
     "metadata": {},
     "output_type": "execute_result"
    }
   ],
   "source": [
    "oneHot(encoded_df, 'Parch')"
   ]
  },
  {
   "cell_type": "code",
   "execution_count": 27,
   "id": "0559b59a-3c50-4e8a-a282-29c4a0d3eb4f",
   "metadata": {},
   "outputs": [
    {
     "name": "stdout",
     "output_type": "stream",
     "text": [
      "+-----------+--------+------+------+---+-----+-----+------+--------+----------+--------------------+--------------+-------------+---------+-------------+-----------+-------------+-----------+-------------+--------------+-------------+\n",
      "|PassengerId|Survived|Pclass|   Sex|Age|SibSp|Parch|  Fare|Embarked|scaled_Age|         scaled_Fare|Survived_Index| Survived_Vec|Sex_Index|      Sex_Vec|SibSp_Index|    SibSp_Vec|Parch_Index|    Parch_Vec|Embarked_Index| Embarked_Vec|\n",
      "+-----------+--------+------+------+---+-----+-----+------+--------+----------+--------------------+--------------+-------------+---------+-------------+-----------+-------------+-----------+-------------+--------------+-------------+\n",
      "|          3|       1|     3|female| 26|    0|    0| 7.925|       S|     0.325|0.015468569476752568|           1.0|    (1,[],[])|      1.0|    (1,[],[])|        0.0|(6,[0],[1.0])|        0.0|(6,[0],[1.0])|           0.0|(2,[0],[1.0])|\n",
      "|         64|       0|     3|  male|  4|    3|    2|  27.9|       S|      0.05|0.054457169982804386|           0.0|(1,[0],[1.0])|      0.0|(1,[0],[1.0])|        4.0|(6,[4],[1.0])|        2.0|(6,[2],[1.0])|           0.0|(2,[0],[1.0])|\n",
      "|         77|       0|     3|  male| 29|    0|    0|7.8958|       S|    0.3625| 0.01541157472472606|           0.0|(1,[0],[1.0])|      0.0|(1,[0],[1.0])|        0.0|(6,[0],[1.0])|        0.0|(6,[0],[1.0])|           0.0|(2,[0],[1.0])|\n",
      "+-----------+--------+------+------+---+-----+-----+------+--------+----------+--------------------+--------------+-------------+---------+-------------+-----------+-------------+-----------+-------------+--------------+-------------+\n",
      "only showing top 3 rows\n",
      "\n"
     ]
    },
    {
     "data": {
      "text/plain": [
       "DataFrame[PassengerId: int, Survived: int, Pclass: string, Sex: string, Age: int, SibSp: string, Parch: string, Fare: float, Embarked: string, scaled_Age: double, scaled_Fare: double, Survived_Index: double, Survived_Vec: vector, Sex_Index: double, Sex_Vec: vector, SibSp_Index: double, SibSp_Vec: vector, Parch_Index: double, Parch_Vec: vector, Embarked_Index: double, Embarked_Vec: vector]"
      ]
     },
     "execution_count": 27,
     "metadata": {},
     "output_type": "execute_result"
    }
   ],
   "source": [
    "oneHot(encoded_df, 'Embarked')"
   ]
  },
  {
   "cell_type": "code",
   "execution_count": 28,
   "id": "2506178c-cad3-498b-ae14-b4cb571d86c5",
   "metadata": {},
   "outputs": [
    {
     "name": "stdout",
     "output_type": "stream",
     "text": [
      "+-----------+--------+-------------+----------+--------------------+-------------+-------------+-------------+-------------+\n",
      "|PassengerId|Survived| Survived_vec|scaled_Age|         scaled_Fare| Embarked_vec|      Sex_Vec|    SibSp_Vec|    Parch_Vec|\n",
      "+-----------+--------+-------------+----------+--------------------+-------------+-------------+-------------+-------------+\n",
      "|          3|       1|    (1,[],[])|     0.325|0.015468569476752568|(2,[0],[1.0])|    (1,[],[])|(6,[0],[1.0])|(6,[0],[1.0])|\n",
      "|         64|       0|(1,[0],[1.0])|      0.05|0.054457169982804386|(2,[0],[1.0])|(1,[0],[1.0])|(6,[4],[1.0])|(6,[2],[1.0])|\n",
      "|         77|       0|(1,[0],[1.0])|    0.3625| 0.01541157472472606|(2,[0],[1.0])|(1,[0],[1.0])|(6,[0],[1.0])|(6,[0],[1.0])|\n",
      "|        142|       1|    (1,[],[])|     0.275|0.015126991868717687|(2,[0],[1.0])|    (1,[],[])|(6,[0],[1.0])|(6,[0],[1.0])|\n",
      "|        176|       0|(1,[0],[1.0])|     0.225|0.015330376492345367|(2,[0],[1.0])|(1,[0],[1.0])|(6,[1],[1.0])|(6,[1],[1.0])|\n",
      "|        191|       1|    (1,[],[])|       0.4| 0.02537430894107483|(2,[0],[1.0])|    (1,[],[])|(6,[0],[1.0])|(6,[0],[1.0])|\n",
      "|        225|       1|    (1,[],[])|     0.475|  0.1756682926689796|(2,[0],[1.0])|(1,[0],[1.0])|(6,[1],[1.0])|(6,[0],[1.0])|\n",
      "|        239|       0|(1,[0],[1.0])|    0.2375|0.020494634144714287|(2,[0],[1.0])|(1,[0],[1.0])|(6,[0],[1.0])|(6,[0],[1.0])|\n",
      "|        247|       0|(1,[0],[1.0])|    0.3125|0.015175788802826114|(2,[0],[1.0])|    (1,[],[])|(6,[0],[1.0])|(6,[0],[1.0])|\n",
      "|        278|       0|(1,[0],[1.0])|    0.3625|                 0.0|(2,[0],[1.0])|(1,[0],[1.0])|(6,[0],[1.0])|(6,[0],[1.0])|\n",
      "|        374|       0|(1,[0],[1.0])|     0.275|  0.2647385597477818|(2,[1],[1.0])|(1,[0],[1.0])|(6,[0],[1.0])|(6,[0],[1.0])|\n",
      "|        405|       0|(1,[0],[1.0])|      0.25| 0.01690807391396857|(2,[0],[1.0])|    (1,[],[])|(6,[0],[1.0])|(6,[0],[1.0])|\n",
      "|        433|       1|    (1,[],[])|     0.525| 0.05074861788214966|(2,[0],[1.0])|    (1,[],[])|(6,[1],[1.0])|(6,[0],[1.0])|\n",
      "|        447|       1|    (1,[],[])|    0.1625| 0.03806146341161224|(2,[0],[1.0])|    (1,[],[])|(6,[0],[1.0])|(6,[1],[1.0])|\n",
      "|        484|       1|    (1,[],[])|    0.7875|0.018713552099463404|(2,[0],[1.0])|    (1,[],[])|(6,[0],[1.0])|(6,[0],[1.0])|\n",
      "|        509|       0|(1,[0],[1.0])|      0.35| 0.04396586917062922|(2,[0],[1.0])|(1,[0],[1.0])|(6,[0],[1.0])|(6,[0],[1.0])|\n",
      "|        606|       0|(1,[0],[1.0])|      0.45|0.030351577605652227|(2,[0],[1.0])|(1,[0],[1.0])|(6,[1],[1.0])|(6,[0],[1.0])|\n",
      "|        701|       1|    (1,[],[])|     0.225| 0.44409919130350456|(2,[1],[1.0])|    (1,[],[])|(6,[1],[1.0])|(6,[0],[1.0])|\n",
      "|        720|       0|(1,[0],[1.0])|    0.4125|0.015175788802826114|(2,[0],[1.0])|(1,[0],[1.0])|(6,[0],[1.0])|(6,[0],[1.0])|\n",
      "|        768|       0|(1,[0],[1.0])|     0.375|0.015126991868717687|    (2,[],[])|    (1,[],[])|(6,[0],[1.0])|(6,[0],[1.0])|\n",
      "+-----------+--------+-------------+----------+--------------------+-------------+-------------+-------------+-------------+\n",
      "only showing top 20 rows\n",
      "\n"
     ]
    }
   ],
   "source": [
    "df_final = encoded_df[['PassengerId', 'Survived', 'Survived_vec', 'scaled_Age', 'scaled_Fare', 'Embarked_vec', 'Sex_Vec', 'SibSp_Vec', 'Parch_Vec']]\n",
    "df_final.show()"
   ]
  },
  {
   "cell_type": "code",
   "execution_count": 29,
   "id": "d65f3f57-5cdf-41a5-b473-8a7cae59334d",
   "metadata": {},
   "outputs": [
    {
     "name": "stdout",
     "output_type": "stream",
     "text": [
      "+-----------+--------+-------------+----------+--------------------+-------------+-------------+-------------+-------------+--------------------+\n",
      "|PassengerId|Survived| Survived_vec|scaled_Age|         scaled_Fare| Embarked_vec|      Sex_Vec|    SibSp_Vec|    Parch_Vec|            features|\n",
      "+-----------+--------+-------------+----------+--------------------+-------------+-------------+-------------+-------------+--------------------+\n",
      "|          3|       1|    (1,[],[])|     0.325|0.015468569476752568|(2,[0],[1.0])|    (1,[],[])|(6,[0],[1.0])|(6,[0],[1.0])|(18,[0,1,2,3,6,12...|\n",
      "|         64|       0|(1,[0],[1.0])|      0.05|0.054457169982804386|(2,[0],[1.0])|(1,[0],[1.0])|(6,[4],[1.0])|(6,[2],[1.0])|(18,[0,1,2,3,5,10...|\n",
      "|         77|       0|(1,[0],[1.0])|    0.3625| 0.01541157472472606|(2,[0],[1.0])|(1,[0],[1.0])|(6,[0],[1.0])|(6,[0],[1.0])|(18,[0,1,2,3,5,6,...|\n",
      "|        142|       1|    (1,[],[])|     0.275|0.015126991868717687|(2,[0],[1.0])|    (1,[],[])|(6,[0],[1.0])|(6,[0],[1.0])|(18,[0,1,2,3,6,12...|\n",
      "|        176|       0|(1,[0],[1.0])|     0.225|0.015330376492345367|(2,[0],[1.0])|(1,[0],[1.0])|(6,[1],[1.0])|(6,[1],[1.0])|(18,[0,1,2,3,5,7,...|\n",
      "+-----------+--------+-------------+----------+--------------------+-------------+-------------+-------------+-------------+--------------------+\n",
      "only showing top 5 rows\n",
      "\n"
     ]
    }
   ],
   "source": [
    "from pyspark.ml.feature import VectorAssembler\n",
    "\n",
    "features = ['PassengerId',\n",
    "  'scaled_Age',\n",
    "  'scaled_Fare',\n",
    "  'Embarked_vec',\n",
    "  'Sex_Vec',\n",
    "  'SibSp_Vec',\n",
    "  'Parch_Vec']\n",
    "\n",
    "assmbler = VectorAssembler(inputCols=features, outputCol='features')\n",
    "df_final = assmbler.transform(df_final)\n",
    "df_final.show(5)"
   ]
  },
  {
   "cell_type": "markdown",
   "id": "94102dae-d92d-49d0-9ff8-20c26edf10dd",
   "metadata": {},
   "source": [
    "#### Train Test split"
   ]
  },
  {
   "cell_type": "code",
   "execution_count": 30,
   "id": "5dfc3f4a-63b1-4129-97cc-b66834bda18a",
   "metadata": {},
   "outputs": [],
   "source": [
    "splits = df_final.randomSplit([0.8, 0.2], 1)"
   ]
  },
  {
   "cell_type": "code",
   "execution_count": 31,
   "id": "e7a37b34-6fab-4523-91e1-e210a6d1319c",
   "metadata": {},
   "outputs": [
    {
     "name": "stdout",
     "output_type": "stream",
     "text": [
      "729\n",
      "160\n"
     ]
    }
   ],
   "source": [
    "train_df = splits[0]\n",
    "test_df = splits[1]\n",
    "\n",
    "print(train_df.count())\n",
    "print(test_df.count())"
   ]
  },
  {
   "cell_type": "markdown",
   "id": "fa13eaa1-db69-40e6-a4f1-bc99ed95406e",
   "metadata": {},
   "source": [
    "### Build ML model"
   ]
  },
  {
   "cell_type": "code",
   "execution_count": 32,
   "id": "686556bd-1e3a-42f4-ba1b-da446d97b8f9",
   "metadata": {},
   "outputs": [],
   "source": [
    "from pyspark.ml.classification import RandomForestClassifier"
   ]
  },
  {
   "cell_type": "code",
   "execution_count": 33,
   "id": "87b9fa34-1b5d-4bfc-b1a6-91ae8788850c",
   "metadata": {},
   "outputs": [
    {
     "name": "stdout",
     "output_type": "stream",
     "text": [
      "root\n",
      " |-- PassengerId: integer (nullable = true)\n",
      " |-- Survived: integer (nullable = true)\n",
      " |-- Survived_vec: vector (nullable = true)\n",
      " |-- scaled_Age: double (nullable = true)\n",
      " |-- scaled_Fare: double (nullable = true)\n",
      " |-- Embarked_vec: vector (nullable = true)\n",
      " |-- Sex_Vec: vector (nullable = true)\n",
      " |-- SibSp_Vec: vector (nullable = true)\n",
      " |-- Parch_Vec: vector (nullable = true)\n",
      " |-- features: vector (nullable = true)\n",
      "\n"
     ]
    }
   ],
   "source": [
    "train_df.printSchema()"
   ]
  },
  {
   "cell_type": "code",
   "execution_count": 34,
   "id": "5ce8684b-9458-4ddf-851f-9a631ff58f38",
   "metadata": {},
   "outputs": [],
   "source": [
    "rf = RandomForestClassifier(featuresCol='features',\n",
    "                            labelCol='Survived') \n",
    "\n",
    "rfModel = rf.fit(train_df)"
   ]
  },
  {
   "cell_type": "code",
   "execution_count": 35,
   "id": "1c10abe6-09f0-4326-b479-53d0d939c1f0",
   "metadata": {},
   "outputs": [],
   "source": [
    "prediction = rfModel.transform(test_df)"
   ]
  },
  {
   "cell_type": "code",
   "execution_count": 36,
   "id": "e20a3f7d-6139-45ba-afb2-0904e18b29c4",
   "metadata": {},
   "outputs": [
    {
     "name": "stdout",
     "output_type": "stream",
     "text": [
      "+-----------+--------+\n",
      "|PassengerId|Survived|\n",
      "+-----------+--------+\n",
      "|          5|       0|\n",
      "|         14|       0|\n",
      "|         15|       0|\n",
      "|         16|       1|\n",
      "|         18|       1|\n",
      "|         30|       0|\n",
      "|         33|       1|\n",
      "|         34|       0|\n",
      "|         43|       0|\n",
      "|         45|       1|\n",
      "+-----------+--------+\n",
      "only showing top 10 rows\n",
      "\n"
     ]
    }
   ],
   "source": [
    "prediction.select('PassengerId', 'Survived').show(10)"
   ]
  },
  {
   "cell_type": "code",
   "execution_count": 37,
   "id": "0c81c267-f16b-412d-81a9-2c3fb8083b0a",
   "metadata": {},
   "outputs": [
    {
     "name": "stdout",
     "output_type": "stream",
     "text": [
      "+-----------+--------+----------+\n",
      "|PassengerId|Survived|prediction|\n",
      "+-----------+--------+----------+\n",
      "|          5|       0|       0.0|\n",
      "|         14|       0|       0.0|\n",
      "|         15|       0|       1.0|\n",
      "|         16|       1|       1.0|\n",
      "|         18|       1|       0.0|\n",
      "|         30|       0|       0.0|\n",
      "|         33|       1|       1.0|\n",
      "|         34|       0|       0.0|\n",
      "|         43|       0|       0.0|\n",
      "|         45|       1|       1.0|\n",
      "|         52|       0|       0.0|\n",
      "|         55|       0|       0.0|\n",
      "|         59|       1|       1.0|\n",
      "|         67|       1|       1.0|\n",
      "|         76|       0|       0.0|\n",
      "|         77|       0|       0.0|\n",
      "|         85|       1|       1.0|\n",
      "|         86|       1|       1.0|\n",
      "|         90|       0|       0.0|\n",
      "|         94|       0|       0.0|\n",
      "+-----------+--------+----------+\n",
      "only showing top 20 rows\n",
      "\n"
     ]
    }
   ],
   "source": [
    "prediction.select('PassengerId', 'Survived', 'prediction').show()"
   ]
  },
  {
   "cell_type": "markdown",
   "id": "6f6f8d7f-e1bf-471e-bebe-3533a0523cdc",
   "metadata": {},
   "source": [
    "### Model Evaluation"
   ]
  },
  {
   "cell_type": "code",
   "execution_count": 38,
   "id": "06521b0b-734b-476c-9b72-75250ae294f3",
   "metadata": {},
   "outputs": [],
   "source": [
    "from pyspark.ml.evaluation import MulticlassClassificationEvaluator"
   ]
  },
  {
   "cell_type": "code",
   "execution_count": 39,
   "id": "b8b56679-d3e5-45a1-8755-bcbef65ea727",
   "metadata": {},
   "outputs": [
    {
     "name": "stdout",
     "output_type": "stream",
     "text": [
      "Accuracy = 0.8009716599190284\n",
      "Test Error = 0.1990283400809716\n"
     ]
    }
   ],
   "source": [
    "evaluator = MulticlassClassificationEvaluator(labelCol='Survived',  predictionCol='prediction')\n",
    "\n",
    "accuracy = evaluator.evaluate(prediction)\n",
    "\n",
    "print(\"Accuracy = %s\" % (accuracy))\n",
    "print(\"Test Error = %s\" % (1.0 - accuracy))"
   ]
  },
  {
   "cell_type": "markdown",
   "id": "8c6716be-652f-4900-a1da-13acc6cd37f4",
   "metadata": {},
   "source": [
    "### Save Model"
   ]
  },
  {
   "cell_type": "code",
   "execution_count": 52,
   "id": "08af69b9-ae52-4c6e-b98e-0dd8dc0d7947",
   "metadata": {},
   "outputs": [],
   "source": [
    "rfModel.save('rfm_titanic_model')"
   ]
  },
  {
   "cell_type": "markdown",
   "id": "d309a893-380e-47d5-8a47-f8859e89cc10",
   "metadata": {},
   "source": [
    "### Load and Predict on new data"
   ]
  },
  {
   "cell_type": "code",
   "execution_count": 3,
   "id": "291c88c9-ffcb-4d3c-8345-0e796d8ba178",
   "metadata": {},
   "outputs": [],
   "source": [
    "from pyspark.ml.classification import RandomForestClassificationModel\n",
    "\n",
    "model = RandomForestClassificationModel.load('rfm_titanic_model')"
   ]
  },
  {
   "cell_type": "code",
   "execution_count": 4,
   "id": "66df7a2b-21bb-4481-ad80-5020a8cc0db9",
   "metadata": {},
   "outputs": [
    {
     "name": "stdout",
     "output_type": "stream",
     "text": [
      "+-----------+------+--------------------+------+----+-----+-----+----------------+-------+-----+--------+\n",
      "|PassengerId|Pclass|                Name|   Sex| Age|SibSp|Parch|          Ticket|   Fare|Cabin|Embarked|\n",
      "+-----------+------+--------------------+------+----+-----+-----+----------------+-------+-----+--------+\n",
      "|        892|     3|    Kelly, Mr. James|  male|34.5|    0|    0|          330911| 7.8292| null|       Q|\n",
      "|        893|     3|Wilkes, Mrs. Jame...|female|  47|    1|    0|          363272|      7| null|       S|\n",
      "|        894|     2|Myles, Mr. Thomas...|  male|  62|    0|    0|          240276| 9.6875| null|       Q|\n",
      "|        895|     3|    Wirz, Mr. Albert|  male|  27|    0|    0|          315154| 8.6625| null|       S|\n",
      "|        896|     3|Hirvonen, Mrs. Al...|female|  22|    1|    1|         3101298|12.2875| null|       S|\n",
      "|        897|     3|Svensson, Mr. Joh...|  male|  14|    0|    0|            7538|  9.225| null|       S|\n",
      "|        898|     3|Connolly, Miss. Kate|female|  30|    0|    0|          330972| 7.6292| null|       Q|\n",
      "|        899|     2|Caldwell, Mr. Alb...|  male|  26|    1|    1|          248738|     29| null|       S|\n",
      "|        900|     3|Abrahim, Mrs. Jos...|female|  18|    0|    0|            2657| 7.2292| null|       C|\n",
      "|        901|     3|Davies, Mr. John ...|  male|  21|    2|    0|       A/4 48871|  24.15| null|       S|\n",
      "|        902|     3|    Ilieff, Mr. Ylio|  male|null|    0|    0|          349220| 7.8958| null|       S|\n",
      "|        903|     1|Jones, Mr. Charle...|  male|  46|    0|    0|             694|     26| null|       S|\n",
      "|        904|     1|Snyder, Mrs. John...|female|  23|    1|    0|           21228|82.2667|  B45|       S|\n",
      "|        905|     2|Howard, Mr. Benjamin|  male|  63|    1|    0|           24065|     26| null|       S|\n",
      "|        906|     1|Chaffee, Mrs. Her...|female|  47|    1|    0|     W.E.P. 5734| 61.175|  E31|       S|\n",
      "|        907|     2|del Carlo, Mrs. S...|female|  24|    1|    0|   SC/PARIS 2167|27.7208| null|       C|\n",
      "|        908|     2|   Keane, Mr. Daniel|  male|  35|    0|    0|          233734|  12.35| null|       Q|\n",
      "|        909|     3|   Assaf, Mr. Gerios|  male|  21|    0|    0|            2692|  7.225| null|       C|\n",
      "|        910|     3|Ilmakangas, Miss....|female|  27|    1|    0|STON/O2. 3101270|  7.925| null|       S|\n",
      "|        911|     3|\"Assaf Khalil, Mr...|female|  45|    0|    0|            2696|  7.225| null|       C|\n",
      "+-----------+------+--------------------+------+----+-----+-----+----------------+-------+-----+--------+\n",
      "only showing top 20 rows\n",
      "\n"
     ]
    }
   ],
   "source": [
    "new_df = sc.read.csv('titanic_test.csv', header=True)\n",
    "new_df.show()"
   ]
  },
  {
   "cell_type": "code",
   "execution_count": 5,
   "id": "572556c1-05fe-4930-821d-80adbe182a19",
   "metadata": {},
   "outputs": [
    {
     "name": "stdout",
     "output_type": "stream",
     "text": [
      "+-----------+------+------+----+-----+-----+-------+--------+\n",
      "|PassengerId|Pclass|   Sex| Age|SibSp|Parch|   Fare|Embarked|\n",
      "+-----------+------+------+----+-----+-----+-------+--------+\n",
      "|        892|     3|  male|34.5|    0|    0| 7.8292|       Q|\n",
      "|        893|     3|female|  47|    1|    0|      7|       S|\n",
      "|        894|     2|  male|  62|    0|    0| 9.6875|       Q|\n",
      "|        895|     3|  male|  27|    0|    0| 8.6625|       S|\n",
      "|        896|     3|female|  22|    1|    1|12.2875|       S|\n",
      "+-----------+------+------+----+-----+-----+-------+--------+\n",
      "only showing top 5 rows\n",
      "\n"
     ]
    }
   ],
   "source": [
    "new_df = new_df.drop('Name')\n",
    "new_df = new_df.drop('Ticket')\n",
    "new_df = new_df.drop('Cabin')\n",
    "new_df.show(5)"
   ]
  },
  {
   "cell_type": "code",
   "execution_count": 6,
   "id": "b415dbb4-d7df-42f9-a921-7104cf2b657c",
   "metadata": {},
   "outputs": [
    {
     "data": {
      "text/plain": [
       "[('PassengerId', 'int'),\n",
       " ('Pclass', 'string'),\n",
       " ('Sex', 'string'),\n",
       " ('Age', 'int'),\n",
       " ('SibSp', 'string'),\n",
       " ('Parch', 'string'),\n",
       " ('Fare', 'float'),\n",
       " ('Embarked', 'string')]"
      ]
     },
     "execution_count": 6,
     "metadata": {},
     "output_type": "execute_result"
    }
   ],
   "source": [
    "new_df = new_df.withColumn('Age', new_df['Age'].cast(IntegerType()))\n",
    "new_df = new_df.withColumn('PassengerId', new_df['PassengerId'].cast(IntegerType()))\n",
    "new_df = new_df.withColumn('Fare', new_df['Fare'].cast(FloatType()))\n",
    "\n",
    "new_df.dtypes"
   ]
  },
  {
   "cell_type": "code",
   "execution_count": 7,
   "id": "6c6c2792-243b-476c-b92b-924a127ace55",
   "metadata": {},
   "outputs": [
    {
     "ename": "IllegalArgumentException",
     "evalue": "features does not exist. Available: PassengerId, Pclass, Sex, Age, SibSp, Parch, Fare, Embarked",
     "output_type": "error",
     "traceback": [
      "\u001b[0;31m---------------------------------------------------------------------------\u001b[0m",
      "\u001b[0;31mIllegalArgumentException\u001b[0m                  Traceback (most recent call last)",
      "\u001b[0;32m<ipython-input-7-2222dac3d10f>\u001b[0m in \u001b[0;36m<module>\u001b[0;34m\u001b[0m\n\u001b[0;32m----> 1\u001b[0;31m \u001b[0mdf_2\u001b[0m \u001b[0;34m=\u001b[0m \u001b[0mmodel\u001b[0m\u001b[0;34m.\u001b[0m\u001b[0mtransform\u001b[0m\u001b[0;34m(\u001b[0m\u001b[0mnew_df\u001b[0m\u001b[0;34m)\u001b[0m\u001b[0;34m\u001b[0m\u001b[0;34m\u001b[0m\u001b[0m\n\u001b[0m\u001b[1;32m      2\u001b[0m \u001b[0;34m\u001b[0m\u001b[0m\n\u001b[1;32m      3\u001b[0m \u001b[0mdf_2\u001b[0m\u001b[0;34m.\u001b[0m\u001b[0mshow\u001b[0m\u001b[0;34m(\u001b[0m\u001b[0;36m10\u001b[0m\u001b[0;34m)\u001b[0m\u001b[0;34m\u001b[0m\u001b[0;34m\u001b[0m\u001b[0m\n",
      "\u001b[0;32m~/anaconda3/envs/tf3/lib/python3.8/site-packages/pyspark/ml/base.py\u001b[0m in \u001b[0;36mtransform\u001b[0;34m(self, dataset, params)\u001b[0m\n\u001b[1;32m    215\u001b[0m                 \u001b[0;32mreturn\u001b[0m \u001b[0mself\u001b[0m\u001b[0;34m.\u001b[0m\u001b[0mcopy\u001b[0m\u001b[0;34m(\u001b[0m\u001b[0mparams\u001b[0m\u001b[0;34m)\u001b[0m\u001b[0;34m.\u001b[0m\u001b[0m_transform\u001b[0m\u001b[0;34m(\u001b[0m\u001b[0mdataset\u001b[0m\u001b[0;34m)\u001b[0m\u001b[0;34m\u001b[0m\u001b[0;34m\u001b[0m\u001b[0m\n\u001b[1;32m    216\u001b[0m             \u001b[0;32melse\u001b[0m\u001b[0;34m:\u001b[0m\u001b[0;34m\u001b[0m\u001b[0;34m\u001b[0m\u001b[0m\n\u001b[0;32m--> 217\u001b[0;31m                 \u001b[0;32mreturn\u001b[0m \u001b[0mself\u001b[0m\u001b[0;34m.\u001b[0m\u001b[0m_transform\u001b[0m\u001b[0;34m(\u001b[0m\u001b[0mdataset\u001b[0m\u001b[0;34m)\u001b[0m\u001b[0;34m\u001b[0m\u001b[0;34m\u001b[0m\u001b[0m\n\u001b[0m\u001b[1;32m    218\u001b[0m         \u001b[0;32melse\u001b[0m\u001b[0;34m:\u001b[0m\u001b[0;34m\u001b[0m\u001b[0;34m\u001b[0m\u001b[0m\n\u001b[1;32m    219\u001b[0m             \u001b[0;32mraise\u001b[0m \u001b[0mTypeError\u001b[0m\u001b[0;34m(\u001b[0m\u001b[0;34m\"Params must be a param map but got %s.\"\u001b[0m \u001b[0;34m%\u001b[0m \u001b[0mtype\u001b[0m\u001b[0;34m(\u001b[0m\u001b[0mparams\u001b[0m\u001b[0;34m)\u001b[0m\u001b[0;34m)\u001b[0m\u001b[0;34m\u001b[0m\u001b[0;34m\u001b[0m\u001b[0m\n",
      "\u001b[0;32m~/anaconda3/envs/tf3/lib/python3.8/site-packages/pyspark/ml/wrapper.py\u001b[0m in \u001b[0;36m_transform\u001b[0;34m(self, dataset)\u001b[0m\n\u001b[1;32m    348\u001b[0m     \u001b[0;32mdef\u001b[0m \u001b[0m_transform\u001b[0m\u001b[0;34m(\u001b[0m\u001b[0mself\u001b[0m\u001b[0;34m,\u001b[0m \u001b[0mdataset\u001b[0m\u001b[0;34m)\u001b[0m\u001b[0;34m:\u001b[0m\u001b[0;34m\u001b[0m\u001b[0;34m\u001b[0m\u001b[0m\n\u001b[1;32m    349\u001b[0m         \u001b[0mself\u001b[0m\u001b[0;34m.\u001b[0m\u001b[0m_transfer_params_to_java\u001b[0m\u001b[0;34m(\u001b[0m\u001b[0;34m)\u001b[0m\u001b[0;34m\u001b[0m\u001b[0;34m\u001b[0m\u001b[0m\n\u001b[0;32m--> 350\u001b[0;31m         \u001b[0;32mreturn\u001b[0m \u001b[0mDataFrame\u001b[0m\u001b[0;34m(\u001b[0m\u001b[0mself\u001b[0m\u001b[0;34m.\u001b[0m\u001b[0m_java_obj\u001b[0m\u001b[0;34m.\u001b[0m\u001b[0mtransform\u001b[0m\u001b[0;34m(\u001b[0m\u001b[0mdataset\u001b[0m\u001b[0;34m.\u001b[0m\u001b[0m_jdf\u001b[0m\u001b[0;34m)\u001b[0m\u001b[0;34m,\u001b[0m \u001b[0mdataset\u001b[0m\u001b[0;34m.\u001b[0m\u001b[0msql_ctx\u001b[0m\u001b[0;34m)\u001b[0m\u001b[0;34m\u001b[0m\u001b[0;34m\u001b[0m\u001b[0m\n\u001b[0m\u001b[1;32m    351\u001b[0m \u001b[0;34m\u001b[0m\u001b[0m\n\u001b[1;32m    352\u001b[0m \u001b[0;34m\u001b[0m\u001b[0m\n",
      "\u001b[0;32m~/anaconda3/envs/tf3/lib/python3.8/site-packages/py4j/java_gateway.py\u001b[0m in \u001b[0;36m__call__\u001b[0;34m(self, *args)\u001b[0m\n\u001b[1;32m   1307\u001b[0m \u001b[0;34m\u001b[0m\u001b[0m\n\u001b[1;32m   1308\u001b[0m         \u001b[0manswer\u001b[0m \u001b[0;34m=\u001b[0m \u001b[0mself\u001b[0m\u001b[0;34m.\u001b[0m\u001b[0mgateway_client\u001b[0m\u001b[0;34m.\u001b[0m\u001b[0msend_command\u001b[0m\u001b[0;34m(\u001b[0m\u001b[0mcommand\u001b[0m\u001b[0;34m)\u001b[0m\u001b[0;34m\u001b[0m\u001b[0;34m\u001b[0m\u001b[0m\n\u001b[0;32m-> 1309\u001b[0;31m         return_value = get_return_value(\n\u001b[0m\u001b[1;32m   1310\u001b[0m             answer, self.gateway_client, self.target_id, self.name)\n\u001b[1;32m   1311\u001b[0m \u001b[0;34m\u001b[0m\u001b[0m\n",
      "\u001b[0;32m~/anaconda3/envs/tf3/lib/python3.8/site-packages/pyspark/sql/utils.py\u001b[0m in \u001b[0;36mdeco\u001b[0;34m(*a, **kw)\u001b[0m\n\u001b[1;32m    115\u001b[0m                 \u001b[0;31m# Hide where the exception came from that shows a non-Pythonic\u001b[0m\u001b[0;34m\u001b[0m\u001b[0;34m\u001b[0m\u001b[0;34m\u001b[0m\u001b[0m\n\u001b[1;32m    116\u001b[0m                 \u001b[0;31m# JVM exception message.\u001b[0m\u001b[0;34m\u001b[0m\u001b[0;34m\u001b[0m\u001b[0;34m\u001b[0m\u001b[0m\n\u001b[0;32m--> 117\u001b[0;31m                 \u001b[0;32mraise\u001b[0m \u001b[0mconverted\u001b[0m \u001b[0;32mfrom\u001b[0m \u001b[0;32mNone\u001b[0m\u001b[0;34m\u001b[0m\u001b[0;34m\u001b[0m\u001b[0m\n\u001b[0m\u001b[1;32m    118\u001b[0m             \u001b[0;32melse\u001b[0m\u001b[0;34m:\u001b[0m\u001b[0;34m\u001b[0m\u001b[0;34m\u001b[0m\u001b[0m\n\u001b[1;32m    119\u001b[0m                 \u001b[0;32mraise\u001b[0m\u001b[0;34m\u001b[0m\u001b[0;34m\u001b[0m\u001b[0m\n",
      "\u001b[0;31mIllegalArgumentException\u001b[0m: features does not exist. Available: PassengerId, Pclass, Sex, Age, SibSp, Parch, Fare, Embarked"
     ]
    }
   ],
   "source": [
    "df_2 = model.transform(new_df)\n",
    "\n",
    "df_2.show(10)"
   ]
  },
  {
   "cell_type": "code",
   "execution_count": 13,
   "id": "5336f100-c7c4-4280-985f-3a0b67d99788",
   "metadata": {},
   "outputs": [
    {
     "data": {
      "text/plain": [
       "[{'PassengerId': 0},\n",
       " {'Pclass': 0},\n",
       " {'Sex': 0},\n",
       " {'Age': 86},\n",
       " {'SibSp': 0},\n",
       " {'Parch': 0},\n",
       " {'Fare': 1},\n",
       " {'Embarked': 0}]"
      ]
     },
     "execution_count": 13,
     "metadata": {},
     "output_type": "execute_result"
    }
   ],
   "source": [
    "cols = ['PassengerId', 'Pclass', 'Sex', 'Age', 'SibSp', 'Parch', 'Fare', 'Embarked']\n",
    "missing_val(new_df, cols)"
   ]
  },
  {
   "cell_type": "code",
   "execution_count": 14,
   "id": "041af565-fc71-4ad2-8512-e883008a51ee",
   "metadata": {},
   "outputs": [],
   "source": [
    "col_mean = new_df.agg({'Age': 'mean'}).collect()[0][0]\n",
    "new_df = new_df.fillna(col_mean, subset=['Age'])"
   ]
  },
  {
   "cell_type": "code",
   "execution_count": 15,
   "id": "7db9659e-572f-4134-a1c8-9a6ea0f320da",
   "metadata": {},
   "outputs": [
    {
     "data": {
      "text/plain": [
       "[{'PassengerId': 0},\n",
       " {'Pclass': 0},\n",
       " {'Sex': 0},\n",
       " {'Age': 0},\n",
       " {'SibSp': 0},\n",
       " {'Parch': 0},\n",
       " {'Fare': 1},\n",
       " {'Embarked': 0}]"
      ]
     },
     "execution_count": 15,
     "metadata": {},
     "output_type": "execute_result"
    }
   ],
   "source": [
    "cols = ['PassengerId', 'Pclass', 'Sex', 'Age', 'SibSp', 'Parch', 'Fare', 'Embarked']\n",
    "missing_val(new_df, cols)"
   ]
  },
  {
   "cell_type": "code",
   "execution_count": 16,
   "id": "870c3b5c-7a43-4367-842a-2b3a7664be60",
   "metadata": {},
   "outputs": [
    {
     "name": "stdout",
     "output_type": "stream",
     "text": [
      "+-----------+------+------+---+-----+-----+-------+--------+-------------------+\n",
      "|PassengerId|Pclass|   Sex|Age|SibSp|Parch|   Fare|Embarked|         scaled_Age|\n",
      "+-----------+------+------+---+-----+-----+-------+--------+-------------------+\n",
      "|        892|     3|  male| 34|    0|    0| 7.8292|       Q| 0.4473684210526316|\n",
      "|        893|     3|female| 47|    1|    0|    7.0|       S|  0.618421052631579|\n",
      "|        894|     2|  male| 62|    0|    0| 9.6875|       Q| 0.8157894736842105|\n",
      "|        895|     3|  male| 27|    0|    0| 8.6625|       S|0.35526315789473684|\n",
      "|        896|     3|female| 22|    1|    1|12.2875|       S| 0.2894736842105263|\n",
      "+-----------+------+------+---+-----+-----+-------+--------+-------------------+\n",
      "only showing top 5 rows\n",
      "\n"
     ]
    }
   ],
   "source": [
    "minmaxScale(new_df, 'Age')"
   ]
  },
  {
   "cell_type": "code",
   "execution_count": 17,
   "id": "f95bc91b-f84d-4139-9c4d-6f1f7c7532b4",
   "metadata": {},
   "outputs": [
    {
     "name": "stdout",
     "output_type": "stream",
     "text": [
      "+-----------+------+------+---+-----+-----+-------+--------+-------------------+--------------------+\n",
      "|PassengerId|Pclass|   Sex|Age|SibSp|Parch|   Fare|Embarked|         scaled_Age|         scaled_Fare|\n",
      "+-----------+------+------+---+-----+-----+-------+--------+-------------------+--------------------+\n",
      "|        892|     3|  male| 34|    0|    0| 7.8292|       Q| 0.4473684210526316|0.015281579558236941|\n",
      "|        893|     3|female| 47|    1|    0|    7.0|       S|  0.618421052631579|0.013663089429809523|\n",
      "|        894|     2|  male| 62|    0|    0| 9.6875|       Q| 0.8157894736842105| 0.01890873983589711|\n",
      "|        895|     3|  male| 27|    0|    0| 8.6625|       S|0.35526315789473684| 0.01690807391396857|\n",
      "|        896|     3|female| 22|    1|    1|12.2875|       S| 0.2894736842105263| 0.02398360236869136|\n",
      "+-----------+------+------+---+-----+-----+-------+--------+-------------------+--------------------+\n",
      "only showing top 5 rows\n",
      "\n"
     ]
    }
   ],
   "source": [
    "minmaxScale(df_scaled, 'Fare')"
   ]
  },
  {
   "cell_type": "code",
   "execution_count": 20,
   "id": "85b05f6d-4363-4b0e-bac9-daa68b01d8bf",
   "metadata": {},
   "outputs": [
    {
     "name": "stdout",
     "output_type": "stream",
     "text": [
      "+-----------+------+------+---+-----+-----+------+--------+------------------+--------------------+---------+-------------+\n",
      "|PassengerId|Pclass|   Sex|Age|SibSp|Parch|  Fare|Embarked|        scaled_Age|         scaled_Fare|Sex_Index|      Sex_Vec|\n",
      "+-----------+------+------+---+-----+-----+------+--------+------------------+--------------------+---------+-------------+\n",
      "|        892|     3|  male| 34|    0|    0|7.8292|       Q|0.4473684210526316|0.015281579558236941|      0.0|(1,[0],[1.0])|\n",
      "|        893|     3|female| 47|    1|    0|   7.0|       S| 0.618421052631579|0.013663089429809523|      1.0|    (1,[],[])|\n",
      "|        894|     2|  male| 62|    0|    0|9.6875|       Q|0.8157894736842105| 0.01890873983589711|      0.0|(1,[0],[1.0])|\n",
      "+-----------+------+------+---+-----+-----+------+--------+------------------+--------------------+---------+-------------+\n",
      "only showing top 3 rows\n",
      "\n"
     ]
    },
    {
     "data": {
      "text/plain": [
       "DataFrame[PassengerId: int, Pclass: string, Sex: string, Age: int, SibSp: string, Parch: string, Fare: float, Embarked: string, scaled_Age: double, scaled_Fare: double, Sex_Index: double, Sex_Vec: vector]"
      ]
     },
     "execution_count": 20,
     "metadata": {},
     "output_type": "execute_result"
    }
   ],
   "source": [
    "oneHot(df_scaled, 'Sex')"
   ]
  },
  {
   "cell_type": "code",
   "execution_count": 21,
   "id": "8f53ca06-a8f8-4c88-bd98-f6fdbef1e175",
   "metadata": {},
   "outputs": [
    {
     "name": "stdout",
     "output_type": "stream",
     "text": [
      "+-----------+------+------+---+-----+-----+------+--------+------------------+--------------------+---------+-------------+-----------+-------------+\n",
      "|PassengerId|Pclass|   Sex|Age|SibSp|Parch|  Fare|Embarked|        scaled_Age|         scaled_Fare|Sex_Index|      Sex_Vec|SibSp_Index|    SibSp_Vec|\n",
      "+-----------+------+------+---+-----+-----+------+--------+------------------+--------------------+---------+-------------+-----------+-------------+\n",
      "|        892|     3|  male| 34|    0|    0|7.8292|       Q|0.4473684210526316|0.015281579558236941|      0.0|(1,[0],[1.0])|        0.0|(6,[0],[1.0])|\n",
      "|        893|     3|female| 47|    1|    0|   7.0|       S| 0.618421052631579|0.013663089429809523|      1.0|    (1,[],[])|        1.0|(6,[1],[1.0])|\n",
      "|        894|     2|  male| 62|    0|    0|9.6875|       Q|0.8157894736842105| 0.01890873983589711|      0.0|(1,[0],[1.0])|        0.0|(6,[0],[1.0])|\n",
      "+-----------+------+------+---+-----+-----+------+--------+------------------+--------------------+---------+-------------+-----------+-------------+\n",
      "only showing top 3 rows\n",
      "\n"
     ]
    },
    {
     "data": {
      "text/plain": [
       "DataFrame[PassengerId: int, Pclass: string, Sex: string, Age: int, SibSp: string, Parch: string, Fare: float, Embarked: string, scaled_Age: double, scaled_Fare: double, Sex_Index: double, Sex_Vec: vector, SibSp_Index: double, SibSp_Vec: vector]"
      ]
     },
     "execution_count": 21,
     "metadata": {},
     "output_type": "execute_result"
    }
   ],
   "source": [
    "oneHot(encoded_df, 'SibSp')"
   ]
  },
  {
   "cell_type": "code",
   "execution_count": 22,
   "id": "5e91f467-ddc2-4ca4-97a2-08b2eb2f6629",
   "metadata": {},
   "outputs": [
    {
     "name": "stdout",
     "output_type": "stream",
     "text": [
      "+-----------+------+------+---+-----+-----+------+--------+------------------+--------------------+---------+-------------+-----------+-------------+-----------+-------------+\n",
      "|PassengerId|Pclass|   Sex|Age|SibSp|Parch|  Fare|Embarked|        scaled_Age|         scaled_Fare|Sex_Index|      Sex_Vec|SibSp_Index|    SibSp_Vec|Parch_Index|    Parch_Vec|\n",
      "+-----------+------+------+---+-----+-----+------+--------+------------------+--------------------+---------+-------------+-----------+-------------+-----------+-------------+\n",
      "|        892|     3|  male| 34|    0|    0|7.8292|       Q|0.4473684210526316|0.015281579558236941|      0.0|(1,[0],[1.0])|        0.0|(6,[0],[1.0])|        0.0|(7,[0],[1.0])|\n",
      "|        893|     3|female| 47|    1|    0|   7.0|       S| 0.618421052631579|0.013663089429809523|      1.0|    (1,[],[])|        1.0|(6,[1],[1.0])|        0.0|(7,[0],[1.0])|\n",
      "|        894|     2|  male| 62|    0|    0|9.6875|       Q|0.8157894736842105| 0.01890873983589711|      0.0|(1,[0],[1.0])|        0.0|(6,[0],[1.0])|        0.0|(7,[0],[1.0])|\n",
      "+-----------+------+------+---+-----+-----+------+--------+------------------+--------------------+---------+-------------+-----------+-------------+-----------+-------------+\n",
      "only showing top 3 rows\n",
      "\n"
     ]
    },
    {
     "data": {
      "text/plain": [
       "DataFrame[PassengerId: int, Pclass: string, Sex: string, Age: int, SibSp: string, Parch: string, Fare: float, Embarked: string, scaled_Age: double, scaled_Fare: double, Sex_Index: double, Sex_Vec: vector, SibSp_Index: double, SibSp_Vec: vector, Parch_Index: double, Parch_Vec: vector]"
      ]
     },
     "execution_count": 22,
     "metadata": {},
     "output_type": "execute_result"
    }
   ],
   "source": [
    "oneHot(encoded_df, 'Parch')"
   ]
  },
  {
   "cell_type": "code",
   "execution_count": 23,
   "id": "23263440-c687-45ad-96f2-c26e87eec2e5",
   "metadata": {},
   "outputs": [
    {
     "name": "stdout",
     "output_type": "stream",
     "text": [
      "+-----------+------+------+---+-----+-----+------+--------+------------------+--------------------+---------+-------------+-----------+-------------+-----------+-------------+--------------+-------------+\n",
      "|PassengerId|Pclass|   Sex|Age|SibSp|Parch|  Fare|Embarked|        scaled_Age|         scaled_Fare|Sex_Index|      Sex_Vec|SibSp_Index|    SibSp_Vec|Parch_Index|    Parch_Vec|Embarked_Index| Embarked_Vec|\n",
      "+-----------+------+------+---+-----+-----+------+--------+------------------+--------------------+---------+-------------+-----------+-------------+-----------+-------------+--------------+-------------+\n",
      "|        892|     3|  male| 34|    0|    0|7.8292|       Q|0.4473684210526316|0.015281579558236941|      0.0|(1,[0],[1.0])|        0.0|(6,[0],[1.0])|        0.0|(7,[0],[1.0])|           2.0|    (2,[],[])|\n",
      "|        893|     3|female| 47|    1|    0|   7.0|       S| 0.618421052631579|0.013663089429809523|      1.0|    (1,[],[])|        1.0|(6,[1],[1.0])|        0.0|(7,[0],[1.0])|           0.0|(2,[0],[1.0])|\n",
      "|        894|     2|  male| 62|    0|    0|9.6875|       Q|0.8157894736842105| 0.01890873983589711|      0.0|(1,[0],[1.0])|        0.0|(6,[0],[1.0])|        0.0|(7,[0],[1.0])|           2.0|    (2,[],[])|\n",
      "+-----------+------+------+---+-----+-----+------+--------+------------------+--------------------+---------+-------------+-----------+-------------+-----------+-------------+--------------+-------------+\n",
      "only showing top 3 rows\n",
      "\n"
     ]
    },
    {
     "data": {
      "text/plain": [
       "DataFrame[PassengerId: int, Pclass: string, Sex: string, Age: int, SibSp: string, Parch: string, Fare: float, Embarked: string, scaled_Age: double, scaled_Fare: double, Sex_Index: double, Sex_Vec: vector, SibSp_Index: double, SibSp_Vec: vector, Parch_Index: double, Parch_Vec: vector, Embarked_Index: double, Embarked_Vec: vector]"
      ]
     },
     "execution_count": 23,
     "metadata": {},
     "output_type": "execute_result"
    }
   ],
   "source": [
    "oneHot(encoded_df, 'Embarked')"
   ]
  },
  {
   "cell_type": "code",
   "execution_count": 25,
   "id": "bd02a997-593c-4a3d-8bf9-69012addef48",
   "metadata": {},
   "outputs": [
    {
     "name": "stdout",
     "output_type": "stream",
     "text": [
      "+-----------+-------------------+--------------------+-------------+-------------+-------------+-------------+\n",
      "|PassengerId|         scaled_Age|         scaled_Fare| Embarked_vec|      Sex_Vec|    SibSp_Vec|    Parch_Vec|\n",
      "+-----------+-------------------+--------------------+-------------+-------------+-------------+-------------+\n",
      "|        892| 0.4473684210526316|0.015281579558236941|    (2,[],[])|(1,[0],[1.0])|(6,[0],[1.0])|(7,[0],[1.0])|\n",
      "|        893|  0.618421052631579|0.013663089429809523|(2,[0],[1.0])|    (1,[],[])|(6,[1],[1.0])|(7,[0],[1.0])|\n",
      "|        894| 0.8157894736842105| 0.01890873983589711|    (2,[],[])|(1,[0],[1.0])|(6,[0],[1.0])|(7,[0],[1.0])|\n",
      "|        895|0.35526315789473684| 0.01690807391396857|(2,[0],[1.0])|(1,[0],[1.0])|(6,[0],[1.0])|(7,[0],[1.0])|\n",
      "|        896| 0.2894736842105263| 0.02398360236869136|(2,[0],[1.0])|    (1,[],[])|(6,[1],[1.0])|(7,[1],[1.0])|\n",
      "|        897|0.18421052631578946|0.018006000743149692|(2,[0],[1.0])|(1,[0],[1.0])|(6,[0],[1.0])|(7,[0],[1.0])|\n",
      "|        898|0.39473684210526316| 0.01489120594681774|    (2,[],[])|    (1,[],[])|(6,[0],[1.0])|(7,[0],[1.0])|\n",
      "|        899|0.34210526315789475| 0.05660422763778231|(2,[0],[1.0])|(1,[0],[1.0])|(6,[1],[1.0])|(7,[1],[1.0])|\n",
      "|        900|0.23684210526315788|0.014110457793255232|(2,[1],[1.0])|    (1,[],[])|(6,[0],[1.0])|(7,[0],[1.0])|\n",
      "|        901|0.27631578947368424| 0.04713765778826357|(2,[0],[1.0])|(1,[0],[1.0])|(6,[2],[1.0])|(7,[0],[1.0])|\n",
      "|        902|0.39473684210526316| 0.01541157472472606|(2,[0],[1.0])|(1,[0],[1.0])|(6,[0],[1.0])|(7,[0],[1.0])|\n",
      "|        903| 0.6052631578947368| 0.05074861788214966|(2,[0],[1.0])|(1,[0],[1.0])|(6,[0],[1.0])|(7,[0],[1.0])|\n",
      "|        904| 0.3026315789473684| 0.16057389848132037|(2,[0],[1.0])|    (1,[],[])|(6,[1],[1.0])|(7,[0],[1.0])|\n",
      "|        905| 0.8289473684210527| 0.05074861788214966|(2,[0],[1.0])|(1,[0],[1.0])|(6,[1],[1.0])|(7,[0],[1.0])|\n",
      "|        906|  0.618421052631579| 0.11940564077778394|(2,[0],[1.0])|    (1,[],[])|(6,[1],[1.0])|(7,[0],[1.0])|\n",
      "|        907| 0.3157894736842105| 0.05410739641829964|(2,[1],[1.0])|    (1,[],[])|(6,[1],[1.0])|(7,[0],[1.0])|\n",
      "|        908| 0.4605263157894737|0.024105594238600373|    (2,[],[])|(1,[0],[1.0])|(6,[0],[1.0])|(7,[0],[1.0])|\n",
      "|        909|0.27631578947368424|0.014102259975337152|(2,[1],[1.0])|(1,[0],[1.0])|(6,[0],[1.0])|(7,[0],[1.0])|\n",
      "|        910|0.35526315789473684|0.015468569476752568|(2,[0],[1.0])|    (1,[],[])|(6,[1],[1.0])|(7,[0],[1.0])|\n",
      "|        911| 0.5921052631578947|0.014102259975337152|(2,[1],[1.0])|    (1,[],[])|(6,[0],[1.0])|(7,[0],[1.0])|\n",
      "+-----------+-------------------+--------------------+-------------+-------------+-------------+-------------+\n",
      "only showing top 20 rows\n",
      "\n"
     ]
    }
   ],
   "source": [
    "new_df_final = encoded_df[['PassengerId', 'scaled_Age', 'scaled_Fare', 'Embarked_vec', 'Sex_Vec', 'SibSp_Vec', 'Parch_Vec']]\n",
    "new_df_final.show()"
   ]
  },
  {
   "cell_type": "code",
   "execution_count": 28,
   "id": "33863138-6353-4166-bb97-458a4b51371e",
   "metadata": {},
   "outputs": [
    {
     "name": "stdout",
     "output_type": "stream",
     "text": [
      "+-----------+-------------------+--------------------+-------------+-------------+-------------+-------------+--------------------+\n",
      "|PassengerId|         scaled_Age|         scaled_Fare| Embarked_vec|      Sex_Vec|    SibSp_Vec|    Parch_Vec|            features|\n",
      "+-----------+-------------------+--------------------+-------------+-------------+-------------+-------------+--------------------+\n",
      "|        892| 0.4473684210526316|0.015281579558236941|    (2,[],[])|(1,[0],[1.0])|(6,[0],[1.0])|(7,[0],[1.0])|(19,[0,1,2,5,6,12...|\n",
      "|        893|  0.618421052631579|0.013663089429809523|(2,[0],[1.0])|    (1,[],[])|(6,[1],[1.0])|(7,[0],[1.0])|(19,[0,1,2,3,7,12...|\n",
      "|        894| 0.8157894736842105| 0.01890873983589711|    (2,[],[])|(1,[0],[1.0])|(6,[0],[1.0])|(7,[0],[1.0])|(19,[0,1,2,5,6,12...|\n",
      "|        895|0.35526315789473684| 0.01690807391396857|(2,[0],[1.0])|(1,[0],[1.0])|(6,[0],[1.0])|(7,[0],[1.0])|(19,[0,1,2,3,5,6,...|\n",
      "|        896| 0.2894736842105263| 0.02398360236869136|(2,[0],[1.0])|    (1,[],[])|(6,[1],[1.0])|(7,[1],[1.0])|(19,[0,1,2,3,7,13...|\n",
      "+-----------+-------------------+--------------------+-------------+-------------+-------------+-------------+--------------------+\n",
      "only showing top 5 rows\n",
      "\n"
     ]
    }
   ],
   "source": [
    "from pyspark.ml.feature import VectorAssembler\n",
    "\n",
    "features = ['PassengerId',\n",
    "  'scaled_Age',\n",
    "  'scaled_Fare',\n",
    "  'Embarked_vec',\n",
    "  'Sex_Vec',\n",
    "  'SibSp_Vec',\n",
    "  'Parch_Vec']\n",
    "\n",
    "assmbler = VectorAssembler(inputCols=features, outputCol='features')\n",
    "new_df_final = assmbler.transform(new_df_final)\n",
    "new_df_final.show(5)"
   ]
  },
  {
   "cell_type": "code",
   "execution_count": 29,
   "id": "d2cf60bd-fe9f-4e31-9bbf-11eb51a86fa1",
   "metadata": {},
   "outputs": [
    {
     "name": "stdout",
     "output_type": "stream",
     "text": [
      "+-----------+-------------------+--------------------+-------------+-------------+-------------+-------------+--------------------+--------------------+--------------------+----------+\n",
      "|PassengerId|         scaled_Age|         scaled_Fare| Embarked_vec|      Sex_Vec|    SibSp_Vec|    Parch_Vec|            features|       rawPrediction|         probability|prediction|\n",
      "+-----------+-------------------+--------------------+-------------+-------------+-------------+-------------+--------------------+--------------------+--------------------+----------+\n",
      "|        892| 0.4473684210526316|0.015281579558236941|    (2,[],[])|(1,[0],[1.0])|(6,[0],[1.0])|(7,[0],[1.0])|(19,[0,1,2,5,6,12...|[17.7215195753915...|[0.88607597876957...|       0.0|\n",
      "|        893|  0.618421052631579|0.013663089429809523|(2,[0],[1.0])|    (1,[],[])|(6,[1],[1.0])|(7,[0],[1.0])|(19,[0,1,2,3,7,12...|[10.9763975913223...|[0.54881987956611...|       0.0|\n",
      "|        894| 0.8157894736842105| 0.01890873983589711|    (2,[],[])|(1,[0],[1.0])|(6,[0],[1.0])|(7,[0],[1.0])|(19,[0,1,2,5,6,12...|[15.4524285207132...|[0.77262142603566...|       0.0|\n",
      "|        895|0.35526315789473684| 0.01690807391396857|(2,[0],[1.0])|(1,[0],[1.0])|(6,[0],[1.0])|(7,[0],[1.0])|(19,[0,1,2,3,5,6,...|[17.2046033725175...|[0.86023016862587...|       0.0|\n",
      "|        896| 0.2894736842105263| 0.02398360236869136|(2,[0],[1.0])|    (1,[],[])|(6,[1],[1.0])|(7,[1],[1.0])|(19,[0,1,2,3,7,13...|[7.58934668641102...|[0.37946733432055...|       1.0|\n",
      "|        897|0.18421052631578946|0.018006000743149692|(2,[0],[1.0])|(1,[0],[1.0])|(6,[0],[1.0])|(7,[0],[1.0])|(19,[0,1,2,3,5,6,...|[14.9955664283366...|[0.74977832141683...|       0.0|\n",
      "|        898|0.39473684210526316| 0.01489120594681774|    (2,[],[])|    (1,[],[])|(6,[0],[1.0])|(7,[0],[1.0])|(19,[0,1,2,6,12],...|[8.45201430138630...|[0.42260071506931...|       1.0|\n",
      "|        899|0.34210526315789475| 0.05660422763778231|(2,[0],[1.0])|(1,[0],[1.0])|(6,[1],[1.0])|(7,[1],[1.0])|(19,[0,1,2,3,5,7,...|[12.6853175734093...|[0.63426587867046...|       0.0|\n",
      "|        900|0.23684210526315788|0.014110457793255232|(2,[1],[1.0])|    (1,[],[])|(6,[0],[1.0])|(7,[0],[1.0])|(19,[0,1,2,4,6,12...|[7.62514913023468...|[0.38125745651173...|       1.0|\n",
      "|        901|0.27631578947368424| 0.04713765778826357|(2,[0],[1.0])|(1,[0],[1.0])|(6,[2],[1.0])|(7,[0],[1.0])|(19,[0,1,2,3,5,8,...|[15.9547421635402...|[0.79773710817701...|       0.0|\n",
      "+-----------+-------------------+--------------------+-------------+-------------+-------------+-------------+--------------------+--------------------+--------------------+----------+\n",
      "only showing top 10 rows\n",
      "\n"
     ]
    }
   ],
   "source": [
    "df_2 = model.transform(new_df_final)\n",
    "\n",
    "df_2.show(10)"
   ]
  },
  {
   "cell_type": "code",
   "execution_count": 30,
   "id": "6da9714b-f939-4005-a736-9f38fb9ce7d0",
   "metadata": {},
   "outputs": [
    {
     "name": "stdout",
     "output_type": "stream",
     "text": [
      "+-----------+----------+\n",
      "|PassengerId|prediction|\n",
      "+-----------+----------+\n",
      "|        892|       0.0|\n",
      "|        893|       0.0|\n",
      "|        894|       0.0|\n",
      "|        895|       0.0|\n",
      "|        896|       1.0|\n",
      "|        897|       0.0|\n",
      "|        898|       1.0|\n",
      "|        899|       0.0|\n",
      "|        900|       1.0|\n",
      "|        901|       0.0|\n",
      "|        902|       0.0|\n",
      "|        903|       0.0|\n",
      "|        904|       1.0|\n",
      "|        905|       0.0|\n",
      "|        906|       1.0|\n",
      "|        907|       1.0|\n",
      "|        908|       0.0|\n",
      "|        909|       0.0|\n",
      "|        910|       0.0|\n",
      "|        911|       1.0|\n",
      "+-----------+----------+\n",
      "only showing top 20 rows\n",
      "\n"
     ]
    }
   ],
   "source": [
    "df_predicted = df_2['PassengerId', 'prediction']\n",
    "\n",
    "df_predicted.show()"
   ]
  },
  {
   "cell_type": "code",
   "execution_count": 37,
   "id": "88949e88-2e9b-4776-a259-23784e24640b",
   "metadata": {},
   "outputs": [
    {
     "data": {
      "text/plain": [
       "[('PassengerId', 'int'), ('prediction', 'int'), ('Survived', 'int')]"
      ]
     },
     "execution_count": 37,
     "metadata": {},
     "output_type": "execute_result"
    }
   ],
   "source": [
    "df_predicted = df_predicted.withColumn('Survived', df_predicted['prediction'].cast(IntegerType()))\n",
    "\n",
    "df_predicted.dtypes"
   ]
  },
  {
   "cell_type": "code",
   "execution_count": 38,
   "id": "8c5c7a01-49c4-4b62-b34e-339739a10ec6",
   "metadata": {},
   "outputs": [
    {
     "name": "stdout",
     "output_type": "stream",
     "text": [
      "+-----------+----------+--------+\n",
      "|PassengerId|prediction|Survived|\n",
      "+-----------+----------+--------+\n",
      "|        892|         0|       0|\n",
      "|        893|         0|       0|\n",
      "|        894|         0|       0|\n",
      "|        895|         0|       0|\n",
      "|        896|         1|       1|\n",
      "|        897|         0|       0|\n",
      "|        898|         1|       1|\n",
      "|        899|         0|       0|\n",
      "|        900|         1|       1|\n",
      "|        901|         0|       0|\n",
      "+-----------+----------+--------+\n",
      "only showing top 10 rows\n",
      "\n"
     ]
    }
   ],
   "source": [
    "df_predicted.show(10)"
   ]
  },
  {
   "cell_type": "code",
   "execution_count": 40,
   "id": "2963c2de-135d-4104-baf3-341b13c0f71b",
   "metadata": {},
   "outputs": [
    {
     "ename": "AnalysisException",
     "evalue": "path file:/home/chamath/Documents/PyProjects/Exercises/PySpark exercises/submission_pyspark.csv already exists.",
     "output_type": "error",
     "traceback": [
      "\u001b[0;31m---------------------------------------------------------------------------\u001b[0m",
      "\u001b[0;31mAnalysisException\u001b[0m                         Traceback (most recent call last)",
      "\u001b[0;32m<ipython-input-40-4ec2e87f5278>\u001b[0m in \u001b[0;36m<module>\u001b[0;34m\u001b[0m\n\u001b[0;32m----> 1\u001b[0;31m \u001b[0mdf_predicted\u001b[0m\u001b[0;34m.\u001b[0m\u001b[0mselect\u001b[0m\u001b[0;34m(\u001b[0m\u001b[0;34m'PassengerId'\u001b[0m\u001b[0;34m,\u001b[0m \u001b[0;34m'Survived'\u001b[0m\u001b[0;34m)\u001b[0m\u001b[0;34m.\u001b[0m\u001b[0mwrite\u001b[0m\u001b[0;34m.\u001b[0m\u001b[0msave\u001b[0m\u001b[0;34m(\u001b[0m\u001b[0;34m'submission_pyspark.csv'\u001b[0m\u001b[0;34m)\u001b[0m\u001b[0;34m\u001b[0m\u001b[0;34m\u001b[0m\u001b[0m\n\u001b[0m",
      "\u001b[0;32m~/anaconda3/envs/tf3/lib/python3.8/site-packages/pyspark/sql/readwriter.py\u001b[0m in \u001b[0;36msave\u001b[0;34m(self, path, format, mode, partitionBy, **options)\u001b[0m\n\u001b[1;32m    738\u001b[0m             \u001b[0mself\u001b[0m\u001b[0;34m.\u001b[0m\u001b[0m_jwrite\u001b[0m\u001b[0;34m.\u001b[0m\u001b[0msave\u001b[0m\u001b[0;34m(\u001b[0m\u001b[0;34m)\u001b[0m\u001b[0;34m\u001b[0m\u001b[0;34m\u001b[0m\u001b[0m\n\u001b[1;32m    739\u001b[0m         \u001b[0;32melse\u001b[0m\u001b[0;34m:\u001b[0m\u001b[0;34m\u001b[0m\u001b[0;34m\u001b[0m\u001b[0m\n\u001b[0;32m--> 740\u001b[0;31m             \u001b[0mself\u001b[0m\u001b[0;34m.\u001b[0m\u001b[0m_jwrite\u001b[0m\u001b[0;34m.\u001b[0m\u001b[0msave\u001b[0m\u001b[0;34m(\u001b[0m\u001b[0mpath\u001b[0m\u001b[0;34m)\u001b[0m\u001b[0;34m\u001b[0m\u001b[0;34m\u001b[0m\u001b[0m\n\u001b[0m\u001b[1;32m    741\u001b[0m \u001b[0;34m\u001b[0m\u001b[0m\n\u001b[1;32m    742\u001b[0m     \u001b[0;34m@\u001b[0m\u001b[0msince\u001b[0m\u001b[0;34m(\u001b[0m\u001b[0;36m1.4\u001b[0m\u001b[0;34m)\u001b[0m\u001b[0;34m\u001b[0m\u001b[0;34m\u001b[0m\u001b[0m\n",
      "\u001b[0;32m~/anaconda3/envs/tf3/lib/python3.8/site-packages/py4j/java_gateway.py\u001b[0m in \u001b[0;36m__call__\u001b[0;34m(self, *args)\u001b[0m\n\u001b[1;32m   1307\u001b[0m \u001b[0;34m\u001b[0m\u001b[0m\n\u001b[1;32m   1308\u001b[0m         \u001b[0manswer\u001b[0m \u001b[0;34m=\u001b[0m \u001b[0mself\u001b[0m\u001b[0;34m.\u001b[0m\u001b[0mgateway_client\u001b[0m\u001b[0;34m.\u001b[0m\u001b[0msend_command\u001b[0m\u001b[0;34m(\u001b[0m\u001b[0mcommand\u001b[0m\u001b[0;34m)\u001b[0m\u001b[0;34m\u001b[0m\u001b[0;34m\u001b[0m\u001b[0m\n\u001b[0;32m-> 1309\u001b[0;31m         return_value = get_return_value(\n\u001b[0m\u001b[1;32m   1310\u001b[0m             answer, self.gateway_client, self.target_id, self.name)\n\u001b[1;32m   1311\u001b[0m \u001b[0;34m\u001b[0m\u001b[0m\n",
      "\u001b[0;32m~/anaconda3/envs/tf3/lib/python3.8/site-packages/pyspark/sql/utils.py\u001b[0m in \u001b[0;36mdeco\u001b[0;34m(*a, **kw)\u001b[0m\n\u001b[1;32m    115\u001b[0m                 \u001b[0;31m# Hide where the exception came from that shows a non-Pythonic\u001b[0m\u001b[0;34m\u001b[0m\u001b[0;34m\u001b[0m\u001b[0;34m\u001b[0m\u001b[0m\n\u001b[1;32m    116\u001b[0m                 \u001b[0;31m# JVM exception message.\u001b[0m\u001b[0;34m\u001b[0m\u001b[0;34m\u001b[0m\u001b[0;34m\u001b[0m\u001b[0m\n\u001b[0;32m--> 117\u001b[0;31m                 \u001b[0;32mraise\u001b[0m \u001b[0mconverted\u001b[0m \u001b[0;32mfrom\u001b[0m \u001b[0;32mNone\u001b[0m\u001b[0;34m\u001b[0m\u001b[0;34m\u001b[0m\u001b[0m\n\u001b[0m\u001b[1;32m    118\u001b[0m             \u001b[0;32melse\u001b[0m\u001b[0;34m:\u001b[0m\u001b[0;34m\u001b[0m\u001b[0;34m\u001b[0m\u001b[0m\n\u001b[1;32m    119\u001b[0m                 \u001b[0;32mraise\u001b[0m\u001b[0;34m\u001b[0m\u001b[0;34m\u001b[0m\u001b[0m\n",
      "\u001b[0;31mAnalysisException\u001b[0m: path file:/home/chamath/Documents/PyProjects/Exercises/PySpark exercises/submission_pyspark.csv already exists."
     ]
    }
   ],
   "source": [
    "df_predicted.select('PassengerId', 'Survived').write.save('submission_pyspark.csv')"
   ]
  },
  {
   "cell_type": "code",
   "execution_count": null,
   "id": "e9aa2f86-3815-419c-9806-e91aca807a14",
   "metadata": {},
   "outputs": [],
   "source": []
  },
  {
   "cell_type": "code",
   "execution_count": 40,
   "id": "18421932-ce52-44b4-9f37-cd9c4aa78445",
   "metadata": {},
   "outputs": [],
   "source": [
    "sc.stop()"
   ]
  },
  {
   "cell_type": "code",
   "execution_count": null,
   "id": "aadf2e66-c02e-4b05-8c57-198b05c4cd48",
   "metadata": {},
   "outputs": [],
   "source": []
  }
 ],
 "metadata": {
  "kernelspec": {
   "display_name": "Python [conda env:tf3]",
   "language": "python",
   "name": "conda-env-tf3-py"
  },
  "language_info": {
   "codemirror_mode": {
    "name": "ipython",
    "version": 3
   },
   "file_extension": ".py",
   "mimetype": "text/x-python",
   "name": "python",
   "nbconvert_exporter": "python",
   "pygments_lexer": "ipython3",
   "version": "3.8.8"
  }
 },
 "nbformat": 4,
 "nbformat_minor": 5
}
